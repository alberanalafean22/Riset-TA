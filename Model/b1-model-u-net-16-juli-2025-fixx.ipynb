{
 "cells": [
  {
   "cell_type": "markdown",
   "metadata": {},
   "source": [
    "# Pemrograman Tugas Akhir:\n",
    "\n",
    "\n",
    "\"Segmentasi Burned Area menggunakan Model U-Net pada Citra Landsat 9 (Studi Kasus: Sumatera Selatan)\"\n",
    "\n",
    "\n",
    "*   Model\n",
    "*   Evaluasi Model\n",
    "\n"
   ]
  },
  {
   "cell_type": "markdown",
   "metadata": {},
   "source": [
    "# Library & Mount Drive"
   ]
  },
  {
   "cell_type": "code",
   "execution_count": 1,
   "metadata": {
    "execution": {
     "iopub.execute_input": "2025-07-16T11:22:11.939132Z",
     "iopub.status.busy": "2025-07-16T11:22:11.938859Z",
     "iopub.status.idle": "2025-07-16T11:22:15.059914Z",
     "shell.execute_reply": "2025-07-16T11:22:15.059192Z",
     "shell.execute_reply.started": "2025-07-16T11:22:11.939103Z"
    },
    "trusted": true
   },
   "outputs": [
    {
     "name": "stdout",
     "output_type": "stream",
     "text": [
      "Requirement already satisfied: rasterio in /usr/local/lib/python3.11/dist-packages (1.4.3)\n",
      "Requirement already satisfied: affine in /usr/local/lib/python3.11/dist-packages (from rasterio) (2.4.0)\n",
      "Requirement already satisfied: attrs in /usr/local/lib/python3.11/dist-packages (from rasterio) (25.3.0)\n",
      "Requirement already satisfied: certifi in /usr/local/lib/python3.11/dist-packages (from rasterio) (2025.6.15)\n",
      "Requirement already satisfied: click>=4.0 in /usr/local/lib/python3.11/dist-packages (from rasterio) (8.2.1)\n",
      "Requirement already satisfied: cligj>=0.5 in /usr/local/lib/python3.11/dist-packages (from rasterio) (0.7.2)\n",
      "Requirement already satisfied: numpy>=1.24 in /usr/local/lib/python3.11/dist-packages (from rasterio) (1.26.4)\n",
      "Requirement already satisfied: click-plugins in /usr/local/lib/python3.11/dist-packages (from rasterio) (1.1.1.2)\n",
      "Requirement already satisfied: pyparsing in /usr/local/lib/python3.11/dist-packages (from rasterio) (3.0.9)\n",
      "Requirement already satisfied: mkl_fft in /usr/local/lib/python3.11/dist-packages (from numpy>=1.24->rasterio) (1.3.8)\n",
      "Requirement already satisfied: mkl_random in /usr/local/lib/python3.11/dist-packages (from numpy>=1.24->rasterio) (1.2.4)\n",
      "Requirement already satisfied: mkl_umath in /usr/local/lib/python3.11/dist-packages (from numpy>=1.24->rasterio) (0.1.1)\n",
      "Requirement already satisfied: mkl in /usr/local/lib/python3.11/dist-packages (from numpy>=1.24->rasterio) (2025.2.0)\n",
      "Requirement already satisfied: tbb4py in /usr/local/lib/python3.11/dist-packages (from numpy>=1.24->rasterio) (2022.2.0)\n",
      "Requirement already satisfied: mkl-service in /usr/local/lib/python3.11/dist-packages (from numpy>=1.24->rasterio) (2.4.1)\n",
      "Requirement already satisfied: intel-openmp<2026,>=2024 in /usr/local/lib/python3.11/dist-packages (from mkl->numpy>=1.24->rasterio) (2024.2.0)\n",
      "Requirement already satisfied: tbb==2022.* in /usr/local/lib/python3.11/dist-packages (from mkl->numpy>=1.24->rasterio) (2022.2.0)\n",
      "Requirement already satisfied: tcmlib==1.* in /usr/local/lib/python3.11/dist-packages (from tbb==2022.*->mkl->numpy>=1.24->rasterio) (1.4.0)\n",
      "Requirement already satisfied: intel-cmplr-lib-rt in /usr/local/lib/python3.11/dist-packages (from mkl_umath->numpy>=1.24->rasterio) (2024.2.0)\n",
      "Requirement already satisfied: intel-cmplr-lib-ur==2024.2.0 in /usr/local/lib/python3.11/dist-packages (from intel-openmp<2026,>=2024->mkl->numpy>=1.24->rasterio) (2024.2.0)\n"
     ]
    }
   ],
   "source": [
    "!pip install rasterio"
   ]
  },
  {
   "cell_type": "code",
   "execution_count": null,
   "metadata": {
    "trusted": true
   },
   "outputs": [],
   "source": [
    "#!pip install opencv-python-headless rasterio scikit-learn tensorflow\n"
   ]
  },
  {
   "cell_type": "code",
   "execution_count": null,
   "metadata": {
    "execution": {
     "iopub.execute_input": "2025-07-16T11:22:17.242319Z",
     "iopub.status.busy": "2025-07-16T11:22:17.241525Z",
     "iopub.status.idle": "2025-07-16T11:22:30.842402Z",
     "shell.execute_reply": "2025-07-16T11:22:30.841788Z",
     "shell.execute_reply.started": "2025-07-16T11:22:17.242281Z"
    },
    "trusted": true
   },
   "outputs": [],
   "source": [
    "#from google.colab import drive\n",
    "#drive.mount('/content/drive')\n",
    "\n",
    "import os\n",
    "import cv2\n",
    "import numpy as np\n",
    "import rasterio\n",
    "import matplotlib.pyplot as plt\n",
    "from sklearn.metrics import accuracy_score\n",
    "from tensorflow.keras import layers, models\n",
    "from tensorflow.keras.callbacks import EarlyStopping\n",
    "from tensorflow.keras.losses import BinaryCrossentropy\n"
   ]
  },
  {
   "cell_type": "markdown",
   "metadata": {},
   "source": [
    "# Load Data"
   ]
  },
  {
   "cell_type": "code",
   "execution_count": 3,
   "metadata": {
    "execution": {
     "iopub.execute_input": "2025-07-16T11:22:37.282602Z",
     "iopub.status.busy": "2025-07-16T11:22:37.281965Z",
     "iopub.status.idle": "2025-07-16T11:22:37.291547Z",
     "shell.execute_reply": "2025-07-16T11:22:37.290790Z",
     "shell.execute_reply.started": "2025-07-16T11:22:37.282573Z"
    },
    "trusted": true
   },
   "outputs": [],
   "source": [
    "def load_geotiff_data(input_folder, mask_folder, size=(512, 512)):\n",
    "    X, Y = [], []\n",
    "\n",
    "    input_files = sorted(os.listdir(input_folder))\n",
    "    mask_files = sorted(os.listdir(mask_folder))\n",
    "\n",
    "    if len(input_files) == 0 or len(mask_files) == 0:\n",
    "        raise ValueError(\"Folder kosong!\")\n",
    "\n",
    "    if len(input_files) != len(mask_files):\n",
    "        print(f\" Jumlah file berbeda! Input: {len(input_files)}, Mask: {len(mask_files)}\")\n",
    "\n",
    "    for fname_input, fname_mask in zip(input_files, mask_files):\n",
    "        input_path = os.path.join(input_folder, fname_input)\n",
    "        mask_path = os.path.join(mask_folder, fname_mask)\n",
    "\n",
    "        if not (os.path.exists(input_path) and os.path.exists(mask_path)):\n",
    "            print(f\" Lewatkan file (tidak ditemukan): {fname_input}, {fname_mask}\")\n",
    "            continue\n",
    "\n",
    "        try:\n",
    "            with rasterio.open(input_path) as src:\n",
    "                img = src.read()  # (bands, H, W)\n",
    "                img = np.transpose(img, (1, 2, 0))  # → (H, W, bands)\n",
    "                img = img.astype(np.float32)\n",
    "                img = cv2.resize(img, size)\n",
    "        except:\n",
    "            print(f\" Gagal baca input: {fname_input}\")\n",
    "            continue\n",
    "\n",
    "        try:\n",
    "            with rasterio.open(mask_path) as msk:\n",
    "                mask = msk.read(1)\n",
    "                mask = mask.astype(np.float32)\n",
    "                mask = cv2.resize(mask, size)\n",
    "        except:\n",
    "            print(f\" Gagal baca mask: {fname_mask}\")\n",
    "            continue\n",
    "\n",
    "        X.append(img)\n",
    "        Y.append(mask)\n",
    "\n",
    "    if len(X) == 0:\n",
    "        raise ValueError(\"Tidak ada data valid!\")\n",
    "\n",
    "    X = np.array(X)\n",
    "    Y = np.array(Y)\n",
    "    Y = Y / 255.0 if Y.max() > 1 else Y\n",
    "    Y = np.expand_dims(Y, axis=-1)\n",
    "\n",
    "    print(f\"Loaded: {len(X)} data pairs\")\n",
    "    return X, Y\n"
   ]
  },
  {
   "cell_type": "code",
   "execution_count": 4,
   "metadata": {
    "execution": {
     "iopub.execute_input": "2025-07-16T11:22:49.972831Z",
     "iopub.status.busy": "2025-07-16T11:22:49.972205Z",
     "iopub.status.idle": "2025-07-16T11:24:35.031572Z",
     "shell.execute_reply": "2025-07-16T11:24:35.030670Z",
     "shell.execute_reply.started": "2025-07-16T11:22:49.972786Z"
    },
    "trusted": true
   },
   "outputs": [
    {
     "name": "stdout",
     "output_type": "stream",
     "text": [
      "Loaded: 706 data pairs\n",
      "Loaded: 151 data pairs\n",
      "Loaded: 151 data pairs\n"
     ]
    }
   ],
   "source": [
    "#base_path = \"/content/drive/MyDrive/DATA BURNED AREA LANDSAT 9/SPLITDATA\" #Google Collab\n",
    "base_path = '/kaggle/input/data-burned-area-landsat-9-toa/DataBurnedArea'\n",
    "x_train, y_train = load_geotiff_data(f\"{base_path}/TRAIN/MULTIBAND\", f\"{base_path}/TRAIN/MASK\")\n",
    "x_val, y_val     = load_geotiff_data(f\"{base_path}/VAL/MULTIBAND\", f\"{base_path}/VAL/MASK\")\n",
    "x_test, y_test   = load_geotiff_data(f\"{base_path}/TEST/MULTIBAND\", f\"{base_path}/TEST/MASK\")\n"
   ]
  },
  {
   "cell_type": "markdown",
   "metadata": {},
   "source": [
    "# Model U-Net"
   ]
  },
  {
   "cell_type": "code",
   "execution_count": 5,
   "metadata": {
    "execution": {
     "iopub.execute_input": "2025-07-16T11:25:41.308269Z",
     "iopub.status.busy": "2025-07-16T11:25:41.307499Z",
     "iopub.status.idle": "2025-07-16T11:25:41.317531Z",
     "shell.execute_reply": "2025-07-16T11:25:41.316957Z",
     "shell.execute_reply.started": "2025-07-16T11:25:41.308239Z"
    },
    "trusted": true
   },
   "outputs": [],
   "source": [
    "def unet_model(input_size=(512, 512, 5)):\n",
    "    inputs = layers.Input(input_size)\n",
    "\n",
    "    # Encoder\n",
    "    c1 = layers.Conv2D(64, 3, activation='relu', padding='same')(inputs)\n",
    "    c1 = layers.Conv2D(64, 3, activation='relu', padding='same')(c1)\n",
    "    p1 = layers.MaxPooling2D(2)(c1)\n",
    "\n",
    "    c2 = layers.Conv2D(128, 3, activation='relu', padding='same')(p1)\n",
    "    c2 = layers.Conv2D(128, 3, activation='relu', padding='same')(c2)\n",
    "    p2 = layers.MaxPooling2D(2)(c2)\n",
    "\n",
    "    c3 = layers.Conv2D(256, 3, activation='relu', padding='same')(p2)\n",
    "    c3 = layers.Conv2D(256, 3, activation='relu', padding='same')(c3)\n",
    "    p3 = layers.MaxPooling2D(2)(c3)\n",
    "\n",
    "    c4 = layers.Conv2D(512, 3, activation='relu', padding='same')(p3)\n",
    "    c4 = layers.Conv2D(512, 3, activation='relu', padding='same')(c4)\n",
    "    p4 = layers.MaxPooling2D(2)(c4)\n",
    "\n",
    "    #Bottleneck\n",
    "\n",
    "    c5 = layers.Conv2D(1024, 3, activation='relu', padding='same')(p4)\n",
    "    c5 = layers.Conv2D(1024, 3, activation='relu', padding='same')(c5)\n",
    "\n",
    "    # Decoder\n",
    "    u6 = layers.Conv2DTranspose(512, 2, strides=2, padding='same')(c5)\n",
    "    u6 = layers.concatenate([u6, c4])\n",
    "    c6 = layers.Conv2D(512, 3, activation='relu', padding='same')(u6)\n",
    "    c6 = layers.Conv2D(512, 3, activation='relu', padding='same')(c6)\n",
    "\n",
    "    u7 = layers.Conv2DTranspose(256, 2, strides=2, padding='same')(c6)\n",
    "    u7 = layers.concatenate([u7, c3])\n",
    "    c7 = layers.Conv2D(256, 3, activation='relu', padding='same')(u7)\n",
    "    c7 = layers.Conv2D(256, 3, activation='relu', padding='same')(c7)\n",
    "\n",
    "    u8 = layers.Conv2DTranspose(128, 2, strides=2, padding='same')(c7)\n",
    "    u8 = layers.concatenate([u8, c2])\n",
    "    c8 = layers.Conv2D(128, 3, activation='relu', padding='same')(u8)\n",
    "    c8 = layers.Conv2D(128, 3, activation='relu', padding='same')(c8)\n",
    "\n",
    "    u9 = layers.Conv2DTranspose(64, 2, strides=2, padding='same')(c8)\n",
    "    u9 = layers.concatenate([u9, c1])\n",
    "    c9 = layers.Conv2D(64, 3, activation='relu', padding='same')(u9)\n",
    "    c9 = layers.Conv2D(64, 3, activation='relu', padding='same')(c9)\n",
    "\n",
    "    outputs = layers.Conv2D(1, 1, activation='sigmoid')(c9)\n",
    "\n",
    "    return models.Model(inputs=[inputs], outputs=[outputs])\n"
   ]
  },
  {
   "cell_type": "markdown",
   "metadata": {},
   "source": [
    "# Compile Model"
   ]
  },
  {
   "cell_type": "code",
   "execution_count": null,
   "metadata": {
    "execution": {
     "iopub.execute_input": "2025-07-16T11:25:46.235887Z",
     "iopub.status.busy": "2025-07-16T11:25:46.235191Z",
     "iopub.status.idle": "2025-07-16T12:00:04.426186Z",
     "shell.execute_reply": "2025-07-16T12:00:04.424729Z",
     "shell.execute_reply.started": "2025-07-16T11:25:46.235855Z"
    },
    "trusted": true
   },
   "outputs": [],
   "source": [
    "import time\n",
    "import tensorflow as tf\n",
    "from tensorflow.keras.optimizers import Adam\n",
    "from tensorflow.keras.callbacks import EarlyStopping\n",
    "\n",
    "# Inisialisasi dan kompilasi model\n",
    "model = unet_model(input_size=x_train.shape[1:])\n",
    "optimizer = Adam(learning_rate=0.0001)\n",
    "model.compile(optimizer=optimizer, loss='binary_crossentropy', metrics=['accuracy'])\n",
    "\n",
    "# Mulai hitung waktu pelatihan\n",
    "start_time = time.time()\n",
    "\n",
    "# Training\n",
    "history = model.fit(\n",
    "    x_train, y_train,\n",
    "    validation_data=(x_val, y_val),\n",
    "    epochs=200,\n",
    "    batch_size=8,\n",
    "    callbacks=[\n",
    "        EarlyStopping(patience=5, restore_best_weights=True)\n",
    "    ]\n",
    ")\n",
    "\n",
    "# Simpan waktu akhir pelatihan\n",
    "end_time = time.time()\n"
   ]
  },
  {
   "cell_type": "markdown",
   "metadata": {},
   "source": [
    "# Informasi GPU dan Waktu Eksekusi"
   ]
  },
  {
   "cell_type": "code",
   "execution_count": null,
   "metadata": {
    "execution": {
     "iopub.execute_input": "2025-07-16T12:00:12.609852Z",
     "iopub.status.busy": "2025-07-16T12:00:12.609029Z",
     "iopub.status.idle": "2025-07-16T12:00:12.628083Z",
     "shell.execute_reply": "2025-07-16T12:00:12.627194Z",
     "shell.execute_reply.started": "2025-07-16T12:00:12.609823Z"
    },
    "trusted": true
   },
   "outputs": [],
   "source": [
    "import GPUtil\n",
    "\n",
    "# Hitung dan tampilkan waktu pelatihan\n",
    "elapsed_time = end_time - start_time\n",
    "minutes = int(elapsed_time // 60)\n",
    "seconds = int(elapsed_time % 60)\n",
    "print(f\" Waktu Training Model: {minutes} menit {seconds} detik\")\n",
    "\n",
    "# Tampilkan detail GPU\n",
    "gpus = GPUtil.getGPUs()\n",
    "if gpus:\n",
    "    print(\"\\n  GPU yang digunakan:\")\n",
    "    for gpu in gpus:\n",
    "        print(f\"    Nama GPU        : {gpu.name}\")\n",
    "        print(f\"    ID              : {gpu.id}\")\n",
    "        print(f\"    Memory Digunakan: {gpu.memoryUsed}MB / {gpu.memoryTotal}MB\")\n",
    "        print(f\"    Load GPU        : {gpu.load * 100:.1f}%\")\n",
    "else:\n",
    "    print(\"  Tidak ada GPU terdeteksi. Model dilatih menggunakan CPU.\")\n"
   ]
  },
  {
   "cell_type": "markdown",
   "metadata": {},
   "source": [
    "# Evaluasi Model"
   ]
  },
  {
   "cell_type": "code",
   "execution_count": null,
   "metadata": {
    "execution": {
     "iopub.execute_input": "2025-07-16T12:00:17.581576Z",
     "iopub.status.busy": "2025-07-16T12:00:17.580960Z",
     "iopub.status.idle": "2025-07-16T12:01:58.213612Z",
     "shell.execute_reply": "2025-07-16T12:01:58.212234Z",
     "shell.execute_reply.started": "2025-07-16T12:00:17.581549Z"
    },
    "trusted": true
   },
   "outputs": [],
   "source": [
    "y_pred = model.predict(x_test)\n",
    "y_pred_bin = (y_pred > 0.5).astype(np.uint8)\n",
    "y_true_bin = y_test.astype(np.uint8)\n",
    "\n",
    "def calculate_metrics_np(y_true, y_pred):\n",
    "    smooth = 1e-7\n",
    "    y_true_f = y_true.flatten()\n",
    "    y_pred_f = y_pred.flatten()\n",
    "\n",
    "    intersection = np.sum(y_true_f * y_pred_f)\n",
    "    union = np.sum(y_true_f) + np.sum(y_pred_f)\n",
    "\n",
    "    dice = (2. * intersection + smooth) / (union + smooth)\n",
    "    iou = (intersection + smooth) / (np.sum(y_true_f) + np.sum(y_pred_f) - intersection + smooth)\n",
    "    return dice, iou\n",
    "\n",
    "dice_score, iou_score = calculate_metrics_np(y_true_bin, y_pred_bin)\n",
    "acc_score = accuracy_score(y_true_bin.flatten(), y_pred_bin.flatten())\n",
    "bce = BinaryCrossentropy()(y_test, y_pred).numpy()\n",
    "\n",
    "print(f\"Akurasi             : {acc_score:.5f}\")\n",
    "print(f\"Dice Coefficient    : {dice_score:.5f}\")\n",
    "print(f\"IoU                 : {iou_score:.5f}\")\n",
    "print(f\"Binary Crossentropy : {bce:.5f}\")\n"
   ]
  },
  {
   "cell_type": "code",
   "execution_count": null,
   "metadata": {
    "trusted": true
   },
   "outputs": [],
   "source": [
    "from sklearn.metrics import confusion_matrix, ConfusionMatrixDisplay\n",
    "import matplotlib.pyplot as plt\n",
    "\n",
    "# Hitung confusion matrix\n",
    "cm = confusion_matrix(y_true_bin.flatten(), y_pred_bin.flatten())\n",
    "\n",
    "# Tampilkan confusion matrix dengan label jelas\n",
    "disp = ConfusionMatrixDisplay(\n",
    "    confusion_matrix=cm,\n",
    "    display_labels=[\"Tidak Terbakar\", \"Terbakar\"]  # Ganti label ini sesuai konteks\n",
    ")\n",
    "disp.plot(cmap='Blues', values_format='d')\n",
    "plt.title(\"Confusion Matrix - Segmentasi Area Terbakar\")\n",
    "plt.show()\n"
   ]
  },
  {
   "cell_type": "code",
   "execution_count": null,
   "metadata": {
    "trusted": true
   },
   "outputs": [],
   "source": [
    "import matplotlib.pyplot as plt\n",
    "\n",
    "# Grafik Loss & Accuracy\n",
    "plt.figure(figsize=(12, 4))\n",
    "\n",
    "plt.subplot(1, 2, 1)\n",
    "plt.plot(history.history['loss'], label='Train Loss')\n",
    "plt.plot(history.history['val_loss'], label='Val Loss')\n",
    "plt.legend(); plt.title(\"Loss\")\n",
    "\n",
    "plt.subplot(1, 2, 2)\n",
    "plt.plot(history.history['accuracy'], label='Train Accuracy')\n",
    "plt.plot(history.history['val_accuracy'], label='Val Accuracy')\n",
    "plt.legend(); plt.title(\"Accuracy\")\n",
    "\n",
    "plt.tight_layout()\n",
    "plt.show()\n"
   ]
  },
  {
   "cell_type": "markdown",
   "metadata": {},
   "source": [
    "# Visualisasi Prediksi"
   ]
  },
  {
   "cell_type": "code",
   "execution_count": null,
   "metadata": {
    "trusted": true
   },
   "outputs": [],
   "source": [
    "import matplotlib.pyplot as plt\n",
    "\n",
    "# Tampilkan semua sample dari x_test\n",
    "num_samples = len(x_test)\n",
    "plt.figure(figsize=(15, num_samples * 3))\n",
    "\n",
    "for i in range(num_samples):\n",
    "    idx = i\n",
    "\n",
    "    # Input dengan band 5-4-3 (index 4,3,2)\n",
    "    rgb_image = x_test[idx][:, :, [4, 3, 2]]\n",
    "\n",
    "    # Jika perlu normalisasi manual (jika range bukan 0-1)\n",
    "    rgb_image = (rgb_image - rgb_image.min()) / (rgb_image.max() - rgb_image.min())\n",
    "\n",
    "    plt.subplot(num_samples, 3, i * 3 + 1)\n",
    "    plt.imshow(rgb_image)\n",
    "    plt.title(f\"Multiband \\nIndex {idx}\")\n",
    "    plt.axis('off')\n",
    "\n",
    "    plt.subplot(num_samples, 3, i * 3 + 2)\n",
    "    plt.imshow(y_test[idx].squeeze(), cmap='gray')\n",
    "    plt.title(\"Ground Truth\")\n",
    "    plt.axis('off')\n",
    "\n",
    "    plt.subplot(num_samples, 3, i * 3 + 3)\n",
    "    plt.imshow(y_pred_bin[idx].squeeze(), cmap='gray')\n",
    "    plt.title(\"Prediksi\")\n",
    "    plt.axis('off')\n",
    "\n",
    "plt.tight_layout()\n",
    "plt.show()\n"
   ]
  },
  {
   "cell_type": "code",
   "execution_count": null,
   "metadata": {
    "trusted": true
   },
   "outputs": [],
   "source": [
    "import matplotlib.pyplot as plt\n",
    "import numpy as np\n",
    "from tensorflow.keras.losses import BinaryCrossentropy\n",
    "\n",
    "# Fungsi evaluasi per citra\n",
    "def calc_metrics(y_true, y_pred):\n",
    "    y_true_f = y_true.flatten()\n",
    "    y_pred_f = y_pred.flatten()\n",
    "\n",
    "    intersection = np.sum(y_true_f * y_pred_f)\n",
    "    union = np.sum(y_true_f) + np.sum(y_pred_f)\n",
    "\n",
    "    smooth = 1e-7\n",
    "    dice = (2. * intersection + smooth) / (np.sum(y_true_f) + np.sum(y_pred_f) + smooth)\n",
    "    iou = (intersection + smooth) / (np.sum(y_true_f + y_pred_f) - intersection + smooth)\n",
    "\n",
    "    acc = np.mean(y_true_f == y_pred_f)\n",
    "\n",
    "    bce_fn = BinaryCrossentropy()\n",
    "    bce = bce_fn(y_true, y_pred).numpy()\n",
    "\n",
    "    return acc, iou, dice, bce\n",
    "\n",
    "# Tampilkan semua sample dari x_test\n",
    "num_samples = len(x_test)\n",
    "plt.figure(figsize=(20, num_samples * 3))\n",
    "\n",
    "for i in range(num_samples):\n",
    "    idx = i\n",
    "\n",
    "    # Ambil RGB band 5-4-3\n",
    "    rgb_image = x_test[idx][:, :, [4, 3, 2]]\n",
    "    rgb_image = (rgb_image - rgb_image.min()) / (rgb_image.max() - rgb_image.min())  # Normalisasi\n",
    "\n",
    "    y_true = y_test[idx].squeeze()\n",
    "    y_pred = y_pred_bin[idx].squeeze()\n",
    "\n",
    "    acc, iou, dice, bce = calc_metrics(y_true, y_pred)\n",
    "\n",
    "    # Kolom 1 - Input\n",
    "    plt.subplot(num_samples, 4, i * 4 + 1)\n",
    "    plt.imshow(rgb_image)\n",
    "    plt.title(f\"Multiband\\nIndex {idx}\")\n",
    "    plt.axis('off')\n",
    "\n",
    "    # Kolom 2 - Ground Truth\n",
    "    plt.subplot(num_samples, 4, i * 4 + 2)\n",
    "    plt.imshow(y_true, cmap='gray')\n",
    "    plt.title(\"Ground Truth\")\n",
    "    plt.axis('off')\n",
    "\n",
    "    # Kolom 3 - Prediksi\n",
    "    plt.subplot(num_samples, 4, i * 4 + 3)\n",
    "    plt.imshow(y_pred, cmap='gray')\n",
    "    plt.title(\"Prediksi\")\n",
    "    plt.axis('off')\n",
    "\n",
    "    # Kolom 4 - Metrik\n",
    "    plt.subplot(num_samples, 4, i * 4 + 4)\n",
    "    plt.axis('off')\n",
    "    plt.text(0.1, 0.8, f\"Accuracy : {acc:.4f}\", fontsize=10)\n",
    "    plt.text(0.1, 0.6, f\"IoU     : {iou:.4f}\", fontsize=10)\n",
    "    plt.text(0.1, 0.4, f\"Dice Coefficient    : {dice:.4f}\", fontsize=10)\n",
    "    plt.text(0.1, 0.2, f\"BCE     : {bce:.4f}\", fontsize=10)\n",
    "\n",
    "plt.tight_layout()\n",
    "plt.show()\n"
   ]
  }
 ],
 "metadata": {
  "kaggle": {
   "accelerator": "nvidiaTeslaT4",
   "dataSources": [
    {
     "datasetId": 7879289,
     "sourceId": 12486594,
     "sourceType": "datasetVersion"
    }
   ],
   "dockerImageVersionId": 31090,
   "isGpuEnabled": true,
   "isInternetEnabled": true,
   "language": "python",
   "sourceType": "notebook"
  },
  "kernelspec": {
   "display_name": "Python 3",
   "language": "python",
   "name": "python3"
  },
  "language_info": {
   "codemirror_mode": {
    "name": "ipython",
    "version": 3
   },
   "file_extension": ".py",
   "mimetype": "text/x-python",
   "name": "python",
   "nbconvert_exporter": "python",
   "pygments_lexer": "ipython3",
   "version": "3.11.13"
  }
 },
 "nbformat": 4,
 "nbformat_minor": 4
}
